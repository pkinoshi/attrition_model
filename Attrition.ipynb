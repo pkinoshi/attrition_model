{
 "cells": [
  {
   "cell_type": "code",
   "execution_count": 4,
   "id": "d4816e4e-ae10-4efd-8928-0941a060e0dc",
   "metadata": {},
   "outputs": [],
   "source": [
    "#Import necessary libraries\n",
    "import pandas as pd\n",
    "import numpy as np\n",
    "import matplotlib.pyplot as plt\n",
    "import seaborn as sns\n",
    "from sklearn.model_selection import train_test_split\n",
    "from sklearn.metrics import accuracy_score\n",
    "\n",
    "#ML models\n",
    "from sklearn.linear_model import LogisticRegression\n",
    "from sklearn.tree import DecisionTreeClassifier\n",
    "from sklearn.ensemble import RandomForestClassifier\n",
    "from sklearn.naive_bayes import GaussianNB"
   ]
  },
  {
   "cell_type": "code",
   "execution_count": 5,
   "id": "3ca34983-2c89-43d7-b21a-fe9390999ff9",
   "metadata": {},
   "outputs": [],
   "source": [
    "df = pd.read_csv(\"employee_attrition.csv\")"
   ]
  },
  {
   "cell_type": "code",
   "execution_count": 6,
   "id": "c249394f-354a-410b-a319-99888122ef0e",
   "metadata": {},
   "outputs": [
    {
     "name": "stdout",
     "output_type": "stream",
     "text": [
      "<class 'pandas.core.frame.DataFrame'>\n",
      "RangeIndex: 3020 entries, 0 to 3019\n",
      "Data columns (total 15 columns):\n",
      " #   Column                   Non-Null Count  Dtype  \n",
      "---  ------                   --------------  -----  \n",
      " 0   EmployeeID               3020 non-null   int64  \n",
      " 1   Age                      3020 non-null   int64  \n",
      " 2   Department               3020 non-null   object \n",
      " 3   YearsAtCompany           3020 non-null   int64  \n",
      " 4   YearsInCurrentRole       3020 non-null   int64  \n",
      " 5   YearsWithCurrentManager  3010 non-null   float64\n",
      " 6   JobLevel                 3020 non-null   int64  \n",
      " 7   JobSatisfaction          3006 non-null   float64\n",
      " 8   Salary                   3007 non-null   float64\n",
      " 9   Attrition                3020 non-null   object \n",
      " 10  WorkLifeBalance          3020 non-null   int64  \n",
      " 11  OverTime                 3020 non-null   object \n",
      " 12  MaritalStatus            3020 non-null   object \n",
      " 13  DistanceFromHome         3020 non-null   int64  \n",
      " 14  Education                3020 non-null   object \n",
      "dtypes: float64(3), int64(7), object(5)\n",
      "memory usage: 354.0+ KB\n"
     ]
    }
   ],
   "source": [
    "df.info()"
   ]
  },
  {
   "cell_type": "code",
   "execution_count": 7,
   "id": "784a1c9a-346f-4a44-b57f-7e2322055082",
   "metadata": {},
   "outputs": [
    {
     "data": {
      "text/html": [
       "<div>\n",
       "<style scoped>\n",
       "    .dataframe tbody tr th:only-of-type {\n",
       "        vertical-align: middle;\n",
       "    }\n",
       "\n",
       "    .dataframe tbody tr th {\n",
       "        vertical-align: top;\n",
       "    }\n",
       "\n",
       "    .dataframe thead th {\n",
       "        text-align: right;\n",
       "    }\n",
       "</style>\n",
       "<table border=\"1\" class=\"dataframe\">\n",
       "  <thead>\n",
       "    <tr style=\"text-align: right;\">\n",
       "      <th></th>\n",
       "      <th>EmployeeID</th>\n",
       "      <th>Age</th>\n",
       "      <th>Department</th>\n",
       "      <th>YearsAtCompany</th>\n",
       "      <th>YearsInCurrentRole</th>\n",
       "      <th>YearsWithCurrentManager</th>\n",
       "      <th>JobLevel</th>\n",
       "      <th>JobSatisfaction</th>\n",
       "      <th>Salary</th>\n",
       "      <th>Attrition</th>\n",
       "      <th>WorkLifeBalance</th>\n",
       "      <th>OverTime</th>\n",
       "      <th>MaritalStatus</th>\n",
       "      <th>DistanceFromHome</th>\n",
       "      <th>Education</th>\n",
       "    </tr>\n",
       "  </thead>\n",
       "  <tbody>\n",
       "    <tr>\n",
       "      <th>0</th>\n",
       "      <td>24</td>\n",
       "      <td>29</td>\n",
       "      <td>Sales</td>\n",
       "      <td>2</td>\n",
       "      <td>11</td>\n",
       "      <td>6.0</td>\n",
       "      <td>2</td>\n",
       "      <td>1.0</td>\n",
       "      <td>69685.0</td>\n",
       "      <td>No</td>\n",
       "      <td>1</td>\n",
       "      <td>No</td>\n",
       "      <td>Divorced</td>\n",
       "      <td>25</td>\n",
       "      <td>College</td>\n",
       "    </tr>\n",
       "    <tr>\n",
       "      <th>1</th>\n",
       "      <td>865</td>\n",
       "      <td>28</td>\n",
       "      <td>Sales</td>\n",
       "      <td>22</td>\n",
       "      <td>6</td>\n",
       "      <td>5.0</td>\n",
       "      <td>2</td>\n",
       "      <td>2.0</td>\n",
       "      <td>57823.0</td>\n",
       "      <td>No</td>\n",
       "      <td>2</td>\n",
       "      <td>No</td>\n",
       "      <td>Married</td>\n",
       "      <td>7</td>\n",
       "      <td>College</td>\n",
       "    </tr>\n",
       "    <tr>\n",
       "      <th>2</th>\n",
       "      <td>463</td>\n",
       "      <td>27</td>\n",
       "      <td>Engineering</td>\n",
       "      <td>18</td>\n",
       "      <td>6</td>\n",
       "      <td>8.0</td>\n",
       "      <td>5</td>\n",
       "      <td>1.0</td>\n",
       "      <td>118568.0</td>\n",
       "      <td>No</td>\n",
       "      <td>3</td>\n",
       "      <td>Yes</td>\n",
       "      <td>Divorced</td>\n",
       "      <td>37</td>\n",
       "      <td>College</td>\n",
       "    </tr>\n",
       "    <tr>\n",
       "      <th>3</th>\n",
       "      <td>868</td>\n",
       "      <td>23</td>\n",
       "      <td>Marketing</td>\n",
       "      <td>20</td>\n",
       "      <td>13</td>\n",
       "      <td>3.0</td>\n",
       "      <td>1</td>\n",
       "      <td>2.0</td>\n",
       "      <td>148336.0</td>\n",
       "      <td>No</td>\n",
       "      <td>1</td>\n",
       "      <td>No</td>\n",
       "      <td>Divorced</td>\n",
       "      <td>33</td>\n",
       "      <td>Bachelor</td>\n",
       "    </tr>\n",
       "    <tr>\n",
       "      <th>4</th>\n",
       "      <td>2928</td>\n",
       "      <td>39</td>\n",
       "      <td>HR</td>\n",
       "      <td>25</td>\n",
       "      <td>12</td>\n",
       "      <td>2.0</td>\n",
       "      <td>4</td>\n",
       "      <td>3.0</td>\n",
       "      <td>44332.0</td>\n",
       "      <td>No</td>\n",
       "      <td>4</td>\n",
       "      <td>Yes</td>\n",
       "      <td>Divorced</td>\n",
       "      <td>17</td>\n",
       "      <td>Bachelor</td>\n",
       "    </tr>\n",
       "  </tbody>\n",
       "</table>\n",
       "</div>"
      ],
      "text/plain": [
       "   EmployeeID  Age   Department  YearsAtCompany  YearsInCurrentRole  \\\n",
       "0          24   29        Sales               2                  11   \n",
       "1         865   28        Sales              22                   6   \n",
       "2         463   27  Engineering              18                   6   \n",
       "3         868   23    Marketing              20                  13   \n",
       "4        2928   39           HR              25                  12   \n",
       "\n",
       "   YearsWithCurrentManager  JobLevel  JobSatisfaction    Salary Attrition  \\\n",
       "0                      6.0         2              1.0   69685.0        No   \n",
       "1                      5.0         2              2.0   57823.0        No   \n",
       "2                      8.0         5              1.0  118568.0        No   \n",
       "3                      3.0         1              2.0  148336.0        No   \n",
       "4                      2.0         4              3.0   44332.0        No   \n",
       "\n",
       "   WorkLifeBalance OverTime MaritalStatus  DistanceFromHome Education  \n",
       "0                1       No      Divorced                25   College  \n",
       "1                2       No       Married                 7   College  \n",
       "2                3      Yes      Divorced                37   College  \n",
       "3                1       No      Divorced                33  Bachelor  \n",
       "4                4      Yes      Divorced                17  Bachelor  "
      ]
     },
     "execution_count": 7,
     "metadata": {},
     "output_type": "execute_result"
    }
   ],
   "source": [
    "df.head()"
   ]
  },
  {
   "cell_type": "code",
   "execution_count": 8,
   "id": "667071f1-fdbb-459c-ab8a-f52383c822ca",
   "metadata": {},
   "outputs": [
    {
     "data": {
      "text/plain": [
       "(3020, 15)"
      ]
     },
     "execution_count": 8,
     "metadata": {},
     "output_type": "execute_result"
    }
   ],
   "source": [
    "df.shape"
   ]
  },
  {
   "cell_type": "code",
   "execution_count": 9,
   "id": "ee3c6556-1cea-4320-96fd-f899ea842865",
   "metadata": {},
   "outputs": [
    {
     "data": {
      "text/plain": [
       "19"
      ]
     },
     "execution_count": 9,
     "metadata": {},
     "output_type": "execute_result"
    }
   ],
   "source": [
    "df.duplicated().sum()"
   ]
  },
  {
   "cell_type": "markdown",
   "id": "2ca34152-1aed-44ea-815b-4f3aeb1d38cf",
   "metadata": {},
   "source": [
    "##### There are 19 duplicates in the dataset, we'll drop them"
   ]
  },
  {
   "cell_type": "code",
   "execution_count": 10,
   "id": "d5d35bc2-92cf-4b10-958f-df5d9f20616b",
   "metadata": {},
   "outputs": [],
   "source": [
    "df.drop_duplicates(inplace=True)"
   ]
  },
  {
   "cell_type": "code",
   "execution_count": 11,
   "id": "e0476294-70f6-40a6-a7b5-85aa2e5d4b52",
   "metadata": {},
   "outputs": [
    {
     "data": {
      "text/plain": [
       "(3001, 15)"
      ]
     },
     "execution_count": 11,
     "metadata": {},
     "output_type": "execute_result"
    }
   ],
   "source": [
    "df.shape"
   ]
  },
  {
   "cell_type": "code",
   "execution_count": 12,
   "id": "0b0609a3-031f-42bb-90ae-64db056fca6e",
   "metadata": {},
   "outputs": [
    {
     "data": {
      "text/plain": [
       "EmployeeID                  0\n",
       "Age                         0\n",
       "Department                  0\n",
       "YearsAtCompany              0\n",
       "YearsInCurrentRole          0\n",
       "YearsWithCurrentManager    10\n",
       "JobLevel                    0\n",
       "JobSatisfaction            14\n",
       "Salary                     13\n",
       "Attrition                   0\n",
       "WorkLifeBalance             0\n",
       "OverTime                    0\n",
       "MaritalStatus               0\n",
       "DistanceFromHome            0\n",
       "Education                   0\n",
       "dtype: int64"
      ]
     },
     "execution_count": 12,
     "metadata": {},
     "output_type": "execute_result"
    }
   ],
   "source": [
    "df.isnull().sum()"
   ]
  },
  {
   "cell_type": "markdown",
   "id": "7444f56d-6da1-488e-979b-3bbf232197c5",
   "metadata": {},
   "source": [
    "##### There are 3 columns with missing values - YearsWithCurrentManager, JobSatisfaction and Salary"
   ]
  },
  {
   "cell_type": "markdown",
   "id": "9cc3b66d-2e26-42d8-ac0a-fd00649ed989",
   "metadata": {},
   "source": [
    "## Data Preprocessing"
   ]
  },
  {
   "cell_type": "markdown",
   "id": "a3bfdfa4-9277-4202-b3e8-9119fafe56c0",
   "metadata": {},
   "source": [
    "##### Data cleaning"
   ]
  },
  {
   "cell_type": "code",
   "execution_count": 13,
   "id": "9185d7da-e8d0-4a3f-a3e8-0f61531580b0",
   "metadata": {},
   "outputs": [],
   "source": [
    "df.columns = df.columns.str.lower()"
   ]
  },
  {
   "cell_type": "code",
   "execution_count": 14,
   "id": "64d9d772-0bd7-419d-a051-120c298f682b",
   "metadata": {},
   "outputs": [
    {
     "data": {
      "text/plain": [
       "Index(['employeeid', 'age', 'department', 'yearsatcompany',\n",
       "       'yearsincurrentrole', 'yearswithcurrentmanager', 'joblevel',\n",
       "       'jobsatisfaction', 'salary', 'attrition', 'worklifebalance', 'overtime',\n",
       "       'maritalstatus', 'distancefromhome', 'education'],\n",
       "      dtype='object')"
      ]
     },
     "execution_count": 14,
     "metadata": {},
     "output_type": "execute_result"
    }
   ],
   "source": [
    "df.columns"
   ]
  },
  {
   "cell_type": "code",
   "execution_count": 15,
   "id": "374acfac-ac87-462f-b2f8-c5a68cae916a",
   "metadata": {},
   "outputs": [
    {
     "data": {
      "text/plain": [
       "employeeid                 0.00\n",
       "age                        0.00\n",
       "department                 0.00\n",
       "yearsatcompany             0.00\n",
       "yearsincurrentrole         0.00\n",
       "yearswithcurrentmanager    0.33\n",
       "joblevel                   0.00\n",
       "jobsatisfaction            0.47\n",
       "salary                     0.43\n",
       "attrition                  0.00\n",
       "worklifebalance            0.00\n",
       "overtime                   0.00\n",
       "maritalstatus              0.00\n",
       "distancefromhome           0.00\n",
       "education                  0.00\n",
       "dtype: float64"
      ]
     },
     "execution_count": 15,
     "metadata": {},
     "output_type": "execute_result"
    }
   ],
   "source": [
    "#Get percentage of missing values in each column\n",
    "round(df.isnull().sum()/len(df) * 100, 2)"
   ]
  },
  {
   "cell_type": "markdown",
   "id": "49840b63-0aa3-4e64-98ab-3d799b6e1ec4",
   "metadata": {},
   "source": [
    "##### all columns with missing values are below 0.5% of the total data in each column."
   ]
  },
  {
   "cell_type": "markdown",
   "id": "cc017d96-ab14-42ba-8752-bd2df75254fe",
   "metadata": {},
   "source": [
    "#### Working on the Salary column"
   ]
  },
  {
   "cell_type": "code",
   "execution_count": 16,
   "id": "5dbf9267-3923-4b86-b70a-dcd2bde1ba12",
   "metadata": {},
   "outputs": [],
   "source": [
    "#Fill missing values based on various criteria\n",
    "df[\"salary\"] = df.groupby([\"department\",\"joblevel\",\"yearsincurrentrole\",\"education\"])[\"salary\"].transform(lambda y: y.fillna(y.median()))"
   ]
  },
  {
   "cell_type": "code",
   "execution_count": 17,
   "id": "68e8dd2b-43e3-4831-afdc-90ed41b904d0",
   "metadata": {},
   "outputs": [
    {
     "data": {
      "text/plain": [
       "2"
      ]
     },
     "execution_count": 17,
     "metadata": {},
     "output_type": "execute_result"
    }
   ],
   "source": [
    "df.salary.isnull().sum()"
   ]
  },
  {
   "cell_type": "code",
   "execution_count": 18,
   "id": "ad2969d2-7e53-443b-a228-f76731a214c9",
   "metadata": {},
   "outputs": [],
   "source": [
    "df[\"salary\"] = df.groupby([\"department\",\"joblevel\",\"yearsincurrentrole\"])[\"salary\"].transform(lambda y: y.fillna(y.median()))"
   ]
  },
  {
   "cell_type": "code",
   "execution_count": 19,
   "id": "7f4e6e8c-5a59-4450-a66a-3b789df3c54f",
   "metadata": {},
   "outputs": [
    {
     "data": {
      "text/plain": [
       "0"
      ]
     },
     "execution_count": 19,
     "metadata": {},
     "output_type": "execute_result"
    }
   ],
   "source": [
    "df.salary.isnull().sum()"
   ]
  },
  {
   "cell_type": "markdown",
   "id": "ec120427-40bd-4775-9f94-5ba2dfa8953f",
   "metadata": {},
   "source": [
    "#### Working on the job satisfaction column"
   ]
  },
  {
   "cell_type": "code",
   "execution_count": 82,
   "id": "cd19cbe9-4c00-49b9-ac61-bfa353bcb72b",
   "metadata": {},
   "outputs": [],
   "source": [
    "#Fill missing values based on various criteria\n",
    "df[\"jobsatisfaction\"] = df.groupby([\"department\",\"joblevel\",\"yearsincurrentrole\",\"education\"])[\"jobsatisfaction\"].\\\n",
    "transform(lambda y: y.fillna(y.median()))"
   ]
  },
  {
   "cell_type": "code",
   "execution_count": 83,
   "id": "6345c32b-0657-4ed7-83bc-7649e3680372",
   "metadata": {},
   "outputs": [],
   "source": [
    "df[\"jobsatisfaction\"] = df.groupby([\"department\",\"joblevel\",\"yearsincurrentrole\"])[\"jobsatisfaction\"].\\\n",
    "transform(lambda y: y.fillna(y.median()))"
   ]
  },
  {
   "cell_type": "code",
   "execution_count": 84,
   "id": "93fec7ec-ba66-44f5-9fd5-6a01e1a3d0e3",
   "metadata": {},
   "outputs": [
    {
     "data": {
      "text/plain": [
       "0"
      ]
     },
     "execution_count": 84,
     "metadata": {},
     "output_type": "execute_result"
    }
   ],
   "source": [
    "df[\"jobsatisfaction\"].isnull().sum()"
   ]
  },
  {
   "cell_type": "code",
   "execution_count": null,
   "id": "a0ed6882-c9aa-4929-85a0-d986f4ef0f1f",
   "metadata": {},
   "outputs": [],
   "source": []
  },
  {
   "cell_type": "markdown",
   "id": "a85fcd18-a211-417d-827d-0c4df83f2654",
   "metadata": {},
   "source": [
    "<h5>For the yearswithcurrentmanager column, i can't currently think of a fitting way to handle this except for asking a supervisor. Since, the missing values in the column are<br><br> less than 0.5%, i'll drop them. Dropping it affects all other columns on the same row.</h5>"
   ]
  },
  {
   "cell_type": "code",
   "execution_count": 85,
   "id": "c6df53f2-b7ca-4b15-8600-2be7675315af",
   "metadata": {},
   "outputs": [],
   "source": [
    "df.dropna(inplace=True)"
   ]
  },
  {
   "cell_type": "code",
   "execution_count": 86,
   "id": "7a5abaf3-91be-495a-a759-caddffa09d05",
   "metadata": {},
   "outputs": [
    {
     "data": {
      "text/plain": [
       "0"
      ]
     },
     "execution_count": 86,
     "metadata": {},
     "output_type": "execute_result"
    }
   ],
   "source": [
    "df[\"yearswithcurrentmanager\"].isna().sum()"
   ]
  },
  {
   "cell_type": "code",
   "execution_count": 87,
   "id": "0560d033-afb7-4092-8c69-b312c1575b29",
   "metadata": {},
   "outputs": [
    {
     "data": {
      "text/plain": [
       "employeeid                 0\n",
       "age                        0\n",
       "department                 0\n",
       "yearsatcompany             0\n",
       "yearsincurrentrole         0\n",
       "yearswithcurrentmanager    0\n",
       "joblevel                   0\n",
       "jobsatisfaction            0\n",
       "salary                     0\n",
       "attrition                  0\n",
       "worklifebalance            0\n",
       "overtime                   0\n",
       "maritalstatus              0\n",
       "distancefromhome           0\n",
       "education                  0\n",
       "dtype: int64"
      ]
     },
     "execution_count": 87,
     "metadata": {},
     "output_type": "execute_result"
    }
   ],
   "source": [
    "df.isnull().sum()"
   ]
  },
  {
   "cell_type": "markdown",
   "id": "baed6bc4-d041-4f9d-865b-31c09ccfc2be",
   "metadata": {},
   "source": [
    "#### First phase of feature engineering - creating new features from existing features"
   ]
  },
  {
   "cell_type": "markdown",
   "id": "45866842-0887-41a2-8ffd-44e1ee35d2cc",
   "metadata": {},
   "source": [
    "##### Tenure-related features"
   ]
  },
  {
   "cell_type": "code",
   "execution_count": 88,
   "id": "81a44fb1-2595-4e47-b024-567650917b65",
   "metadata": {},
   "outputs": [],
   "source": [
    "df[\"roletenureratio\"] = df[\"yearsincurrentrole\"]/df[\"yearsatcompany\"]\n",
    "df[\"managertenureratio\"] = df[\"yearswithcurrentmanager\"]/df[\"yearsatcompany\"]\n",
    "df[\"yearsinotherroles\"] = df[\"yearsatcompany\"]/df[\"yearsincurrentrole\"]"
   ]
  },
  {
   "cell_type": "markdown",
   "id": "f09255e4-3584-4208-8793-51a67858c8d3",
   "metadata": {},
   "source": [
    "##### Job level and Salary-related features"
   ]
  },
  {
   "cell_type": "code",
   "execution_count": 89,
   "id": "cfc06ddc-484d-49cc-be49-452d0789ccb2",
   "metadata": {},
   "outputs": [
    {
     "data": {
      "text/plain": [
       "joblevel\n",
       "1    90678.0\n",
       "2    90340.5\n",
       "3    93843.0\n",
       "4    91465.0\n",
       "5    89992.5\n",
       "Name: salary, dtype: float64"
      ]
     },
     "execution_count": 89,
     "metadata": {},
     "output_type": "execute_result"
    }
   ],
   "source": [
    "salary_by_joblevel = df.groupby(\"joblevel\")[\"salary\"].median()\n",
    "salary_by_joblevel"
   ]
  },
  {
   "cell_type": "code",
   "execution_count": 91,
   "id": "88028a34-cbea-4644-bc46-e2afd06742b6",
   "metadata": {},
   "outputs": [],
   "source": [
    "sal_jl_dict = {}\n",
    "for i in salary_by_joblevel.index:\n",
    "    key = i\n",
    "    value = salary_by_joblevel[i]\n",
    "    sal_jl_dict[key] = value"
   ]
  },
  {
   "cell_type": "code",
   "execution_count": 92,
   "id": "6cdbf960-3e1f-4928-81a6-d7909ceb07ba",
   "metadata": {},
   "outputs": [
    {
     "data": {
      "text/plain": [
       "{1: 90678.0, 2: 90340.5, 3: 93843.0, 4: 91465.0, 5: 89992.5}"
      ]
     },
     "execution_count": 92,
     "metadata": {},
     "output_type": "execute_result"
    }
   ],
   "source": [
    "sal_jl_dict"
   ]
  },
  {
   "cell_type": "code",
   "execution_count": 93,
   "id": "bc03e6dd-a21f-43ac-b586-e505ba2e3742",
   "metadata": {},
   "outputs": [],
   "source": [
    "df[\"salaryperjoblevel\"] = df[\"joblevel\"].map(sal_jl_dict)\n",
    "df[\"salarytoageratio\"] = df[\"salary\"]/df[\"age\"]"
   ]
  },
  {
   "cell_type": "markdown",
   "id": "af89fa08-81fc-4559-bcf8-902633251b0a",
   "metadata": {},
   "source": [
    "##### Satisfaction and work-life balance features"
   ]
  },
  {
   "cell_type": "code",
   "execution_count": 94,
   "id": "d35fcbc8-4825-4c3b-b6df-dd38d65f92d5",
   "metadata": {},
   "outputs": [],
   "source": [
    "df[\"satisfactiontosalaryratio\"] = df[\"jobsatisfaction\"]/df[\"salary\"]\n",
    "df[\"overtime\"] = df[\"overtime\"].map({\"Yes\":1, \"No\":0})\n",
    "df[\"overtimeimpact\"] = df[\"overtime\"] * df[\"jobsatisfaction\"]"
   ]
  },
  {
   "cell_type": "markdown",
   "id": "5e1699e8-b862-4bc7-926d-7732cfb263e1",
   "metadata": {},
   "source": [
    "##### Attrition-related features"
   ]
  },
  {
   "cell_type": "code",
   "execution_count": 95,
   "id": "732447c2-0123-4b1a-b017-e621186f3c22",
   "metadata": {},
   "outputs": [],
   "source": [
    "df[\"attrition\"] = df[\"attrition\"].map({\"Yes\":1, \"No\":0})"
   ]
  },
  {
   "cell_type": "code",
   "execution_count": 96,
   "id": "1c616954-20af-4f03-9614-a478c92bc82d",
   "metadata": {},
   "outputs": [],
   "source": [
    "df[\"loyaltyindex\"] = df[\"yearsatcompany\"]/df[\"age\"]"
   ]
  },
  {
   "cell_type": "markdown",
   "id": "24d70a91-538c-410c-900a-4e1b29e2acc1",
   "metadata": {},
   "source": [
    "##### Department-related features"
   ]
  },
  {
   "cell_type": "code",
   "execution_count": 97,
   "id": "f6a0d131-721c-456e-87f7-fe7fa46205ca",
   "metadata": {},
   "outputs": [
    {
     "data": {
      "text/plain": [
       "array(['Sales', 'Engineering', 'Marketing', 'HR', 'Finance'], dtype=object)"
      ]
     },
     "execution_count": 97,
     "metadata": {},
     "output_type": "execute_result"
    }
   ],
   "source": [
    "df[\"department\"].unique()"
   ]
  },
  {
   "cell_type": "code",
   "execution_count": 98,
   "id": "45240702-38f3-48b6-b453-0941cf978d75",
   "metadata": {},
   "outputs": [],
   "source": [
    "df[\"istechnicaldepartment\"] = [1 if dept == \"Engineering\" else 0 for dept in df[\"department\"]]"
   ]
  },
  {
   "cell_type": "code",
   "execution_count": 99,
   "id": "f2b4d666-64e5-49a8-9b90-958c138af0e2",
   "metadata": {},
   "outputs": [
    {
     "data": {
      "text/plain": [
       "department\n",
       "Engineering    89046.0\n",
       "Finance        91083.0\n",
       "HR             92605.0\n",
       "Marketing      90869.5\n",
       "Sales          88970.5\n",
       "Name: salary, dtype: float64"
      ]
     },
     "execution_count": 99,
     "metadata": {},
     "output_type": "execute_result"
    }
   ],
   "source": [
    "salary_by_dept = df.groupby(\"department\")[\"salary\"].median()\n",
    "salary_by_dept"
   ]
  },
  {
   "cell_type": "code",
   "execution_count": 100,
   "id": "e9bc3404-2008-4dd0-a7fe-a41d000ea864",
   "metadata": {},
   "outputs": [],
   "source": [
    "dept_dict = {}\n",
    "for i in salary_by_dept.index:\n",
    "    key = i\n",
    "    value = salary_by_dept[i]\n",
    "    dept_dict[key] = value"
   ]
  },
  {
   "cell_type": "code",
   "execution_count": 101,
   "id": "1e56ab15-58ad-4dc8-8bb1-da717d5f5fa5",
   "metadata": {},
   "outputs": [
    {
     "data": {
      "text/plain": [
       "{'Engineering': 89046.0,\n",
       " 'Finance': 91083.0,\n",
       " 'HR': 92605.0,\n",
       " 'Marketing': 90869.5,\n",
       " 'Sales': 88970.5}"
      ]
     },
     "execution_count": 101,
     "metadata": {},
     "output_type": "execute_result"
    }
   ],
   "source": [
    "dept_dict"
   ]
  },
  {
   "cell_type": "code",
   "execution_count": 102,
   "id": "4b4bec42-a7bd-4a28-b51e-fb335b48c91d",
   "metadata": {},
   "outputs": [],
   "source": [
    "df[\"departmentlevelsalary\"] = df[\"department\"].map(dept_dict) "
   ]
  },
  {
   "cell_type": "code",
   "execution_count": 103,
   "id": "4924585f-2718-426e-9395-5fb6064afab0",
   "metadata": {},
   "outputs": [],
   "source": [
    "transformed_df = pd.get_dummies(df, dtype=float, drop_first=True).drop(\"employeeid\", axis=1)"
   ]
  },
  {
   "cell_type": "code",
   "execution_count": 104,
   "id": "45de97d1-6286-4470-b021-8879c6725e4d",
   "metadata": {},
   "outputs": [
    {
     "data": {
      "text/html": [
       "<div>\n",
       "<style scoped>\n",
       "    .dataframe tbody tr th:only-of-type {\n",
       "        vertical-align: middle;\n",
       "    }\n",
       "\n",
       "    .dataframe tbody tr th {\n",
       "        vertical-align: top;\n",
       "    }\n",
       "\n",
       "    .dataframe thead th {\n",
       "        text-align: right;\n",
       "    }\n",
       "</style>\n",
       "<table border=\"1\" class=\"dataframe\">\n",
       "  <thead>\n",
       "    <tr style=\"text-align: right;\">\n",
       "      <th></th>\n",
       "      <th>age</th>\n",
       "      <th>yearsatcompany</th>\n",
       "      <th>yearsincurrentrole</th>\n",
       "      <th>yearswithcurrentmanager</th>\n",
       "      <th>joblevel</th>\n",
       "      <th>jobsatisfaction</th>\n",
       "      <th>salary</th>\n",
       "      <th>attrition</th>\n",
       "      <th>worklifebalance</th>\n",
       "      <th>overtime</th>\n",
       "      <th>...</th>\n",
       "      <th>department_Finance</th>\n",
       "      <th>department_HR</th>\n",
       "      <th>department_Marketing</th>\n",
       "      <th>department_Sales</th>\n",
       "      <th>maritalstatus_Married</th>\n",
       "      <th>maritalstatus_Single</th>\n",
       "      <th>education_Below College</th>\n",
       "      <th>education_College</th>\n",
       "      <th>education_Doctor</th>\n",
       "      <th>education_Master</th>\n",
       "    </tr>\n",
       "  </thead>\n",
       "  <tbody>\n",
       "    <tr>\n",
       "      <th>0</th>\n",
       "      <td>29</td>\n",
       "      <td>2</td>\n",
       "      <td>11</td>\n",
       "      <td>6.0</td>\n",
       "      <td>2</td>\n",
       "      <td>1.0</td>\n",
       "      <td>69685.0</td>\n",
       "      <td>0</td>\n",
       "      <td>1</td>\n",
       "      <td>0</td>\n",
       "      <td>...</td>\n",
       "      <td>0.0</td>\n",
       "      <td>0.0</td>\n",
       "      <td>0.0</td>\n",
       "      <td>1.0</td>\n",
       "      <td>0.0</td>\n",
       "      <td>0.0</td>\n",
       "      <td>0.0</td>\n",
       "      <td>1.0</td>\n",
       "      <td>0.0</td>\n",
       "      <td>0.0</td>\n",
       "    </tr>\n",
       "    <tr>\n",
       "      <th>1</th>\n",
       "      <td>28</td>\n",
       "      <td>22</td>\n",
       "      <td>6</td>\n",
       "      <td>5.0</td>\n",
       "      <td>2</td>\n",
       "      <td>2.0</td>\n",
       "      <td>57823.0</td>\n",
       "      <td>0</td>\n",
       "      <td>2</td>\n",
       "      <td>0</td>\n",
       "      <td>...</td>\n",
       "      <td>0.0</td>\n",
       "      <td>0.0</td>\n",
       "      <td>0.0</td>\n",
       "      <td>1.0</td>\n",
       "      <td>1.0</td>\n",
       "      <td>0.0</td>\n",
       "      <td>0.0</td>\n",
       "      <td>1.0</td>\n",
       "      <td>0.0</td>\n",
       "      <td>0.0</td>\n",
       "    </tr>\n",
       "    <tr>\n",
       "      <th>2</th>\n",
       "      <td>27</td>\n",
       "      <td>18</td>\n",
       "      <td>6</td>\n",
       "      <td>8.0</td>\n",
       "      <td>5</td>\n",
       "      <td>1.0</td>\n",
       "      <td>118568.0</td>\n",
       "      <td>0</td>\n",
       "      <td>3</td>\n",
       "      <td>1</td>\n",
       "      <td>...</td>\n",
       "      <td>0.0</td>\n",
       "      <td>0.0</td>\n",
       "      <td>0.0</td>\n",
       "      <td>0.0</td>\n",
       "      <td>0.0</td>\n",
       "      <td>0.0</td>\n",
       "      <td>0.0</td>\n",
       "      <td>1.0</td>\n",
       "      <td>0.0</td>\n",
       "      <td>0.0</td>\n",
       "    </tr>\n",
       "    <tr>\n",
       "      <th>3</th>\n",
       "      <td>23</td>\n",
       "      <td>20</td>\n",
       "      <td>13</td>\n",
       "      <td>3.0</td>\n",
       "      <td>1</td>\n",
       "      <td>2.0</td>\n",
       "      <td>148336.0</td>\n",
       "      <td>0</td>\n",
       "      <td>1</td>\n",
       "      <td>0</td>\n",
       "      <td>...</td>\n",
       "      <td>0.0</td>\n",
       "      <td>0.0</td>\n",
       "      <td>1.0</td>\n",
       "      <td>0.0</td>\n",
       "      <td>0.0</td>\n",
       "      <td>0.0</td>\n",
       "      <td>0.0</td>\n",
       "      <td>0.0</td>\n",
       "      <td>0.0</td>\n",
       "      <td>0.0</td>\n",
       "    </tr>\n",
       "    <tr>\n",
       "      <th>4</th>\n",
       "      <td>39</td>\n",
       "      <td>25</td>\n",
       "      <td>12</td>\n",
       "      <td>2.0</td>\n",
       "      <td>4</td>\n",
       "      <td>3.0</td>\n",
       "      <td>44332.0</td>\n",
       "      <td>0</td>\n",
       "      <td>4</td>\n",
       "      <td>1</td>\n",
       "      <td>...</td>\n",
       "      <td>0.0</td>\n",
       "      <td>1.0</td>\n",
       "      <td>0.0</td>\n",
       "      <td>0.0</td>\n",
       "      <td>0.0</td>\n",
       "      <td>0.0</td>\n",
       "      <td>0.0</td>\n",
       "      <td>0.0</td>\n",
       "      <td>0.0</td>\n",
       "      <td>0.0</td>\n",
       "    </tr>\n",
       "  </tbody>\n",
       "</table>\n",
       "<p>5 rows × 31 columns</p>\n",
       "</div>"
      ],
      "text/plain": [
       "   age  yearsatcompany  yearsincurrentrole  yearswithcurrentmanager  joblevel  \\\n",
       "0   29               2                  11                      6.0         2   \n",
       "1   28              22                   6                      5.0         2   \n",
       "2   27              18                   6                      8.0         5   \n",
       "3   23              20                  13                      3.0         1   \n",
       "4   39              25                  12                      2.0         4   \n",
       "\n",
       "   jobsatisfaction    salary  attrition  worklifebalance  overtime  ...  \\\n",
       "0              1.0   69685.0          0                1         0  ...   \n",
       "1              2.0   57823.0          0                2         0  ...   \n",
       "2              1.0  118568.0          0                3         1  ...   \n",
       "3              2.0  148336.0          0                1         0  ...   \n",
       "4              3.0   44332.0          0                4         1  ...   \n",
       "\n",
       "   department_Finance  department_HR  department_Marketing  department_Sales  \\\n",
       "0                 0.0            0.0                   0.0               1.0   \n",
       "1                 0.0            0.0                   0.0               1.0   \n",
       "2                 0.0            0.0                   0.0               0.0   \n",
       "3                 0.0            0.0                   1.0               0.0   \n",
       "4                 0.0            1.0                   0.0               0.0   \n",
       "\n",
       "   maritalstatus_Married  maritalstatus_Single  education_Below College  \\\n",
       "0                    0.0                   0.0                      0.0   \n",
       "1                    1.0                   0.0                      0.0   \n",
       "2                    0.0                   0.0                      0.0   \n",
       "3                    0.0                   0.0                      0.0   \n",
       "4                    0.0                   0.0                      0.0   \n",
       "\n",
       "   education_College  education_Doctor  education_Master  \n",
       "0                1.0               0.0               0.0  \n",
       "1                1.0               0.0               0.0  \n",
       "2                1.0               0.0               0.0  \n",
       "3                0.0               0.0               0.0  \n",
       "4                0.0               0.0               0.0  \n",
       "\n",
       "[5 rows x 31 columns]"
      ]
     },
     "execution_count": 104,
     "metadata": {},
     "output_type": "execute_result"
    }
   ],
   "source": [
    "transformed_df.head()"
   ]
  },
  {
   "cell_type": "code",
   "execution_count": 105,
   "id": "a7b94315-1aa9-4a78-b43a-6a6610f0dcd2",
   "metadata": {},
   "outputs": [
    {
     "data": {
      "image/png": "[encoded data removed]",
      "text/plain": [
       "<Figure size 1000x600 with 2 Axes>"
      ]
     },
     "metadata": {},
     "output_type": "display_data"
    }
   ],
   "source": [
    "plt.figure(figsize=(10,6))\n",
    "sns.heatmap(transformed_df);"
   ]
  },
  {
   "cell_type": "code",
   "execution_count": 106,
   "id": "d4daa38a-bcc6-45bc-848e-fd1dbf2a4da3",
   "metadata": {},
   "outputs": [],
   "source": [
    "X = transformed_df[[\"salary\",\"joblevel\",\"salaryperjoblevel\",\"departmentlevelsalary\"]]#.drop(\"attrition\", axis=1)\n",
    "y = transformed_df[\"attrition\"]"
   ]
  },
  {
   "cell_type": "code",
   "execution_count": 107,
   "id": "8acacb7c-9e2f-47f8-8074-cbda2d9b185b",
   "metadata": {},
   "outputs": [],
   "source": [
    "X_train, X_test, y_train, y_test = train_test_split(X, y, test_size=.2, random_state=55)"
   ]
  },
  {
   "cell_type": "code",
   "execution_count": 108,
   "id": "9f4098ae-7f71-40e8-836a-d3dc6ad152b9",
   "metadata": {},
   "outputs": [
    {
     "data": {
      "text/html": [
       "<div>\n",
       "<style scoped>\n",
       "    .dataframe tbody tr th:only-of-type {\n",
       "        vertical-align: middle;\n",
       "    }\n",
       "\n",
       "    .dataframe tbody tr th {\n",
       "        vertical-align: top;\n",
       "    }\n",
       "\n",
       "    .dataframe thead th {\n",
       "        text-align: right;\n",
       "    }\n",
       "</style>\n",
       "<table border=\"1\" class=\"dataframe\">\n",
       "  <thead>\n",
       "    <tr style=\"text-align: right;\">\n",
       "      <th></th>\n",
       "      <th>salary</th>\n",
       "      <th>joblevel</th>\n",
       "      <th>salaryperjoblevel</th>\n",
       "      <th>departmentlevelsalary</th>\n",
       "    </tr>\n",
       "  </thead>\n",
       "  <tbody>\n",
       "    <tr>\n",
       "      <th>1444</th>\n",
       "      <td>133578.0</td>\n",
       "      <td>5</td>\n",
       "      <td>89992.5</td>\n",
       "      <td>90869.5</td>\n",
       "    </tr>\n",
       "    <tr>\n",
       "      <th>2253</th>\n",
       "      <td>85713.0</td>\n",
       "      <td>5</td>\n",
       "      <td>89992.5</td>\n",
       "      <td>88970.5</td>\n",
       "    </tr>\n",
       "    <tr>\n",
       "      <th>1759</th>\n",
       "      <td>137532.0</td>\n",
       "      <td>4</td>\n",
       "      <td>91465.0</td>\n",
       "      <td>90869.5</td>\n",
       "    </tr>\n",
       "    <tr>\n",
       "      <th>1038</th>\n",
       "      <td>132755.0</td>\n",
       "      <td>2</td>\n",
       "      <td>90340.5</td>\n",
       "      <td>90869.5</td>\n",
       "    </tr>\n",
       "    <tr>\n",
       "      <th>2113</th>\n",
       "      <td>131081.0</td>\n",
       "      <td>5</td>\n",
       "      <td>89992.5</td>\n",
       "      <td>91083.0</td>\n",
       "    </tr>\n",
       "    <tr>\n",
       "      <th>...</th>\n",
       "      <td>...</td>\n",
       "      <td>...</td>\n",
       "      <td>...</td>\n",
       "      <td>...</td>\n",
       "    </tr>\n",
       "    <tr>\n",
       "      <th>2612</th>\n",
       "      <td>142134.0</td>\n",
       "      <td>5</td>\n",
       "      <td>89992.5</td>\n",
       "      <td>89046.0</td>\n",
       "    </tr>\n",
       "    <tr>\n",
       "      <th>972</th>\n",
       "      <td>116923.0</td>\n",
       "      <td>1</td>\n",
       "      <td>90678.0</td>\n",
       "      <td>88970.5</td>\n",
       "    </tr>\n",
       "    <tr>\n",
       "      <th>296</th>\n",
       "      <td>90477.0</td>\n",
       "      <td>4</td>\n",
       "      <td>91465.0</td>\n",
       "      <td>88970.5</td>\n",
       "    </tr>\n",
       "    <tr>\n",
       "      <th>667</th>\n",
       "      <td>94802.0</td>\n",
       "      <td>5</td>\n",
       "      <td>89992.5</td>\n",
       "      <td>90869.5</td>\n",
       "    </tr>\n",
       "    <tr>\n",
       "      <th>462</th>\n",
       "      <td>149950.0</td>\n",
       "      <td>4</td>\n",
       "      <td>91465.0</td>\n",
       "      <td>92605.0</td>\n",
       "    </tr>\n",
       "  </tbody>\n",
       "</table>\n",
       "<p>2392 rows × 4 columns</p>\n",
       "</div>"
      ],
      "text/plain": [
       "        salary  joblevel  salaryperjoblevel  departmentlevelsalary\n",
       "1444  133578.0         5            89992.5                90869.5\n",
       "2253   85713.0         5            89992.5                88970.5\n",
       "1759  137532.0         4            91465.0                90869.5\n",
       "1038  132755.0         2            90340.5                90869.5\n",
       "2113  131081.0         5            89992.5                91083.0\n",
       "...        ...       ...                ...                    ...\n",
       "2612  142134.0         5            89992.5                89046.0\n",
       "972   116923.0         1            90678.0                88970.5\n",
       "296    90477.0         4            91465.0                88970.5\n",
       "667    94802.0         5            89992.5                90869.5\n",
       "462   149950.0         4            91465.0                92605.0\n",
       "\n",
       "[2392 rows x 4 columns]"
      ]
     },
     "execution_count": 108,
     "metadata": {},
     "output_type": "execute_result"
    }
   ],
   "source": [
    "X_train"
   ]
  },
  {
   "cell_type": "markdown",
   "id": "20d45bb4-a3fb-4cfa-ab09-068c530d911c",
   "metadata": {},
   "source": [
    "## Building and testing accuracy of models"
   ]
  },
  {
   "cell_type": "code",
   "execution_count": 109,
   "id": "bc810850-54ec-447d-994a-5a727dd71dd4",
   "metadata": {},
   "outputs": [],
   "source": [
    "#Instantiating models\n",
    "lr = LogisticRegression()\n",
    "dt = DecisionTreeClassifier()\n",
    "tm = RandomForestClassifier()\n",
    "gnb = GaussianNB()"
   ]
  },
  {
   "cell_type": "code",
   "execution_count": 110,
   "id": "51ed6638-2ab8-497c-8eb0-5b4fe6672b88",
   "metadata": {},
   "outputs": [],
   "source": [
    "models = [lr,dt,tm,gnb]\n",
    "model_names = [\"Logistic Regression\", \"Decision Tree Classifier\", \"Random Forest Classifier\", \"GaussianNB\"]"
   ]
  },
  {
   "cell_type": "code",
   "execution_count": 111,
   "id": "3bdfc26f-f323-4370-b9f8-bbc6038623b3",
   "metadata": {},
   "outputs": [
    {
     "name": "stdout",
     "output_type": "stream",
     "text": [
      "Logistic Regression training accuracy is 0.806438127090301.\n",
      "Logistic Regression testing accuracy is 0.8280467445742905.\n",
      "Decision Tree Classifier training accuracy is 0.9979096989966555.\n",
      "Decision Tree Classifier testing accuracy is 0.7295492487479132.\n",
      "Random Forest Classifier training accuracy is 0.9979096989966555.\n",
      "Random Forest Classifier testing accuracy is 0.7262103505843072.\n",
      "GaussianNB training accuracy is 0.806438127090301.\n",
      "GaussianNB testing accuracy is 0.8280467445742905.\n"
     ]
    }
   ],
   "source": [
    "for model, model_name in zip(models, model_names):\n",
    "    model.fit(X_train, y_train)\n",
    "    prediction = model.predict(X_train)\n",
    "    y_pred = model.predict(X_test)\n",
    "    training_accuracy = accuracy_score(y_train,prediction)\n",
    "    testing_accuracy = accuracy_score(y_test, y_pred)\n",
    "    message1 = f\"{model_name} training accuracy is {training_accuracy}.\"\n",
    "    message2 = f\"{model_name} testing accuracy is {testing_accuracy}.\"\n",
    "    print(message1)\n",
    "    print(message2)"
   ]
  },
  {
   "cell_type": "code",
   "execution_count": 112,
   "id": "39695344",
   "metadata": {},
   "outputs": [
    {
     "name": "stdout",
     "output_type": "stream",
     "text": [
      "training accuracy is 0.806438127090301.\n",
      "testing accuracy is 0.8280467445742905.\n"
     ]
    }
   ],
   "source": [
    "model = lr.fit(X_train,y_train)\n",
    "\n",
    "prediction = model.predict(X_train)\n",
    "y_pred = model.predict(X_test)\n",
    "training_accuracy = accuracy_score(y_train,prediction)\n",
    "testing_accuracy = accuracy_score(y_test, y_pred)\n",
    "message1 = f\"training accuracy is {training_accuracy}.\"\n",
    "message2 = f\"testing accuracy is {testing_accuracy}.\"\n",
    "print(message1)\n",
    "print(message2)"
   ]
  },
  {
   "cell_type": "code",
   "execution_count": 113,
   "id": "719633fe-3a12-42e5-993c-b16ed4bc71b9",
   "metadata": {},
   "outputs": [],
   "source": [
    "importance = model.coef_[0] "
   ]
  },
  {
   "cell_type": "code",
   "execution_count": 114,
   "id": "ecb423a2-7e82-4b16-be84-fb77a12a512c",
   "metadata": {},
   "outputs": [],
   "source": [
    "df = pd.DataFrame({'Feature_name':X.columns, 'Importance':importance})\n",
    "df1 = df.sort_values(by=\"Importance\", ascending=False)"
   ]
  },
  {
   "cell_type": "code",
   "execution_count": 115,
   "id": "2abcf92e-c196-433b-97c9-ffde650b6f9b",
   "metadata": {},
   "outputs": [
    {
     "data": {
      "text/html": [
       "<div>\n",
       "<style scoped>\n",
       "    .dataframe tbody tr th:only-of-type {\n",
       "        vertical-align: middle;\n",
       "    }\n",
       "\n",
       "    .dataframe tbody tr th {\n",
       "        vertical-align: top;\n",
       "    }\n",
       "\n",
       "    .dataframe thead th {\n",
       "        text-align: right;\n",
       "    }\n",
       "</style>\n",
       "<table border=\"1\" class=\"dataframe\">\n",
       "  <thead>\n",
       "    <tr style=\"text-align: right;\">\n",
       "      <th></th>\n",
       "      <th>Feature_name</th>\n",
       "      <th>Importance</th>\n",
       "    </tr>\n",
       "  </thead>\n",
       "  <tbody>\n",
       "    <tr>\n",
       "      <th>3</th>\n",
       "      <td>departmentlevelsalary</td>\n",
       "      <td>3.167999e-05</td>\n",
       "    </tr>\n",
       "    <tr>\n",
       "      <th>0</th>\n",
       "      <td>salary</td>\n",
       "      <td>3.041623e-07</td>\n",
       "    </tr>\n",
       "    <tr>\n",
       "      <th>1</th>\n",
       "      <td>joblevel</td>\n",
       "      <td>1.806086e-08</td>\n",
       "    </tr>\n",
       "    <tr>\n",
       "      <th>2</th>\n",
       "      <td>salaryperjoblevel</td>\n",
       "      <td>-4.741473e-05</td>\n",
       "    </tr>\n",
       "  </tbody>\n",
       "</table>\n",
       "</div>"
      ],
      "text/plain": [
       "            Feature_name    Importance\n",
       "3  departmentlevelsalary  3.167999e-05\n",
       "0                 salary  3.041623e-07\n",
       "1               joblevel  1.806086e-08\n",
       "2      salaryperjoblevel -4.741473e-05"
      ]
     },
     "execution_count": 115,
     "metadata": {},
     "output_type": "execute_result"
    }
   ],
   "source": [
    "df1"
   ]
  },
  {
   "cell_type": "code",
   "execution_count": 116,
   "id": "d2756593-eb83-4b9b-b1e9-7557be3d0f78",
   "metadata": {},
   "outputs": [
    {
     "data": {
      "image/png": "[encoded data removed]",
      "text/plain": [
       "<Figure size 640x480 with 1 Axes>"
      ]
     },
     "metadata": {},
     "output_type": "display_data"
    }
   ],
   "source": [
    "#plt.figure(figsize=(10,7))\n",
    "sns.barplot(data=df1, y=\"Feature_name\", x=\"Importance\", color='green').set_title(\"Feature Importance\");"
   ]
  },
  {
   "cell_type": "code",
   "execution_count": 117,
   "id": "bf81978b-7e67-4077-bdd6-488f997be0f2",
   "metadata": {},
   "outputs": [],
   "source": [
    "import pickle\n",
    "\n",
    "filename = 'model.pickle'\n",
    "pickle.dump(model, open(filename, 'wb'))"
   ]
  },
  {
   "cell_type": "code",
   "execution_count": 21,
   "id": "4fe8b93a-8e8b-4f16-9884-71a264a33298",
   "metadata": {},
   "outputs": [
    {
     "data": {
      "text/plain": [
       "30014.0"
      ]
     },
     "execution_count": 21,
     "metadata": {},
     "output_type": "execute_result"
    }
   ],
   "source": [
    "df[\"salary\"].min()"
   ]
  },
  {
   "cell_type": "code",
   "execution_count": 22,
   "id": "20cb8a19-a8b6-460c-b712-ebb395f101b5",
   "metadata": {},
   "outputs": [
    {
     "data": {
      "text/plain": [
       "149998.0"
      ]
     },
     "execution_count": 22,
     "metadata": {},
     "output_type": "execute_result"
    }
   ],
   "source": [
    "df[\"salary\"].max()"
   ]
  },
  {
   "cell_type": "code",
   "execution_count": 23,
   "id": "af55ebe2-8ec0-48a6-9bc7-db72535e41f1",
   "metadata": {},
   "outputs": [
    {
     "data": {
      "text/plain": [
       "array([2, 5, 1, 4, 3], dtype=int64)"
      ]
     },
     "execution_count": 23,
     "metadata": {},
     "output_type": "execute_result"
    }
   ],
   "source": [
    "df[\"joblevel\"].unique()"
   ]
  },
  {
   "cell_type": "code",
   "execution_count": null,
   "id": "b7cd17e6-18c6-45e6-92d7-1f40a1ac8a3f",
   "metadata": {},
   "outputs": [],
   "source": []
  }
 ],
 "metadata": {
  "kernelspec": {
   "display_name": "Python 3 (ipykernel)",
   "language": "python",
   "name": "python3"
  },
  "language_info": {
   "codemirror_mode": {
    "name": "ipython",
    "version": 3
   },
   "file_extension": ".py",
   "mimetype": "text/x-python",
   "name": "python",
   "nbconvert_exporter": "python",
   "pygments_lexer": "ipython3",
   "version": "3.11.7"
  }
 },
 "nbformat": 4,
 "nbformat_minor": 5
}
